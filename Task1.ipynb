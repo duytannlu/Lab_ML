{
  "nbformat": 4,
  "nbformat_minor": 0,
  "metadata": {
    "colab": {
      "provenance": [],
      "authorship_tag": "ABX9TyO9e/GfQboX9g6uDPh2OSDj",
      "include_colab_link": true
    },
    "kernelspec": {
      "name": "python3",
      "display_name": "Python 3"
    },
    "language_info": {
      "name": "python"
    }
  },
  "cells": [
    {
      "cell_type": "markdown",
      "metadata": {
        "id": "view-in-github",
        "colab_type": "text"
      },
      "source": [
        "<a href=\"https://colab.research.google.com/github/duytannlu/Lab_ML/blob/main/Task1.ipynb\" target=\"_parent\"><img src=\"https://colab.research.google.com/assets/colab-badge.svg\" alt=\"Open In Colab\"/></a>"
      ]
    },
    {
      "cell_type": "code",
      "source": [
        "#Task1.1\n",
        "# Nhap. n so va` tao. List L\n",
        "n = int(input(\"Nhap n phan tu:\"))\n",
        "L = []\n",
        "for i in range(n):\n",
        "  x = int(input(f\"Nhap phan tu thu {i+1}:\"))\n",
        "  L.append(x)\n",
        "  print(L)"
      ],
      "metadata": {
        "colab": {
          "base_uri": "https://localhost:8080/"
        },
        "id": "dhkQCBKQEc0G",
        "outputId": "95a0ffba-0086-43e3-dbec-e586517d4610"
      },
      "execution_count": null,
      "outputs": [
        {
          "output_type": "stream",
          "name": "stdout",
          "text": [
            "Nhap n phan tu:5\n",
            "Nhap phan tu thu 1:3\n",
            "[3]\n",
            "Nhap phan tu thu 2:-1\n",
            "[3, -1]\n",
            "Nhap phan tu thu 3:7\n",
            "[3, -1, 7]\n",
            "Nhap phan tu thu 4:2\n",
            "[3, -1, 7, 2]\n",
            "Nhap phan tu thu 5:3\n",
            "[3, -1, 7, 2, 3]\n"
          ]
        }
      ]
    },
    {
      "cell_type": "code",
      "source": [
        "# Tim gia tri lon nhat va nho nhat trong L\n",
        "max_element = max(L)\n",
        "min_element = min(L)\n",
        "print(f\"Phan tu lon nhat {max_element}\")\n",
        "print(f\"Phan tu nho nhat {min_element}\")"
      ],
      "metadata": {
        "colab": {
          "base_uri": "https://localhost:8080/"
        },
        "id": "eOcG3cH_EcaW",
        "outputId": "bd5b0046-9bbe-4555-dd15-a42f41e20b69"
      },
      "execution_count": null,
      "outputs": [
        {
          "output_type": "stream",
          "name": "stdout",
          "text": [
            "Phan tu lon nhat 7\n",
            "Phan tu nho nhat -1\n"
          ]
        }
      ]
    },
    {
      "cell_type": "code",
      "source": [
        "# Tong gia tri phan tu trong L\n",
        "sum_element = sum(L)\n",
        "print(f\"Tong cac phan tu {sum_element}\")"
      ],
      "metadata": {
        "colab": {
          "base_uri": "https://localhost:8080/"
        },
        "id": "wbXzTfPLEbqQ",
        "outputId": "3f41d644-f5b0-443d-c909-ad38b0a76ace"
      },
      "execution_count": null,
      "outputs": [
        {
          "output_type": "stream",
          "name": "stdout",
          "text": [
            "Tong cac phan tu 14\n"
          ]
        }
      ]
    },
    {
      "cell_type": "code",
      "source": [
        "\n",
        "#Sap xep cac phan tu theo gia tri tang dan\n",
        "ascending_element = sorted(L)\n",
        "print(f\"Cac phan tu theo thu tu tang dan {ascending_element}\")\n"
      ],
      "metadata": {
        "colab": {
          "base_uri": "https://localhost:8080/"
        },
        "id": "t3Hfg2j2CdQu",
        "outputId": "db430971-87a0-46d4-9dfe-5453c2ed5666"
      },
      "execution_count": null,
      "outputs": [
        {
          "output_type": "stream",
          "name": "stdout",
          "text": [
            "Cac phan tu theo thu tu tang dan [-1, 2, 3, 3, 7]\n"
          ]
        }
      ]
    },
    {
      "cell_type": "code",
      "source": [
        "# Tim bao nhieu so nguyen duong va nguyen am\n",
        "pos_count = 0\n",
        "neg_count = 0\n",
        "for i in L:\n",
        "    if i >= 0:\n",
        "        pos_count += 1\n",
        "    else:\n",
        "        neg_count += 1\n",
        "print(f\"So phan tu nguyen duong {pos_count}\")\n",
        "print(f\"So phan tu nguyen am {neg_count}\")"
      ],
      "metadata": {
        "colab": {
          "base_uri": "https://localhost:8080/"
        },
        "id": "rmrGYSvSEkDu",
        "outputId": "001f40bf-a8a0-4c53-d1d4-a275f815c093"
      },
      "execution_count": null,
      "outputs": [
        {
          "output_type": "stream",
          "name": "stdout",
          "text": [
            "So phan tu nguyen duong 4\n",
            "So phan tu nguyen am 1\n"
          ]
        }
      ]
    },
    {
      "cell_type": "code",
      "source": [
        "#Task 1.2. Implement a Python function to compute S(n) as follows:\n",
        "#S(n)=1+1.2+1.2.3+…+1.2.3…n, n>0\n",
        "def compute_S(n):\n",
        "  ket_qua = 0\n",
        "  phan_tu = 1\n",
        "  for i in range(1, n+1):\n",
        "    phan_tu *= 1\n",
        "    ket_qua += phan_tu\n",
        "  return ket_qua\n",
        "#test\n",
        "\n",
        "\n",
        "\n"
      ],
      "metadata": {
        "id": "ICDgln_C6iAA"
      },
      "execution_count": 11,
      "outputs": []
    }
  ]
}